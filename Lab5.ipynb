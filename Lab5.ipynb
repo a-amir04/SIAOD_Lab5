{
 "cells": [
  {
   "cell_type": "markdown",
   "metadata": {},
   "source": [
    "# Лабораторная работа №5\n",
    "## Выполнил студент группы БВТ2101 Абдукулов Амир"
   ]
  },
  {
   "cell_type": "markdown",
   "metadata": {},
   "source": [
    "### Оглавление\n",
    "1. [Задание 1](#Задание-№1)\n",
    "2. [Задание 2](#Задание-№2)\n",
    "4. [Вывод](#Вывод)"
   ]
  },
  {
   "cell_type": "markdown",
   "metadata": {},
   "source": [
    "> Дополнительные модули, использованные при выполнении лабораторной"
   ]
  },
  {
   "cell_type": "code",
   "execution_count": 1,
   "metadata": {
    "collapsed": false,
    "jupyter": {
     "outputs_hidden": false
    },
    "pycharm": {
     "name": "#%%\n"
    }
   },
   "outputs": [],
   "source": [
    "# Необходим при замере скорости выполнения кода\n",
    "from datetime import datetime as t\n",
    "# Нужен для создания словаря в алг. Бойера-Мура\n",
    "from collections import defaultdict"
   ]
  },
  {
   "cell_type": "markdown",
   "metadata": {},
   "source": [
    "### Задание №1\n",
    "Реализовать методы поиска подстроки в строке. Добавить возможность ввода строки и подстроки с клавиатуры. Предусмотреть возможность существования пробела. Реализовать возможность выбора опции чувствительности или нечувствительности к регистру. Оценить время работы каждого алгоритма поиска и сравнить его со временем работы стандартной функции поиска, используемой в выбранном языке программирования."
   ]
  },
  {
   "cell_type": "markdown",
   "metadata": {},
   "source": [
    "#### Алгоритм Кнута-Морриса-Пратта"
   ]
  },
  {
   "cell_type": "code",
   "execution_count": 2,
   "metadata": {
    "collapsed": false,
    "jupyter": {
     "outputs_hidden": false
    },
    "pycharm": {
     "name": "#%%\n"
    }
   },
   "outputs": [
    {
     "name": "stdout",
     "output_type": "stream",
     "text": [
      "12\n"
     ]
    }
   ],
   "source": [
    "def prefix(haystack:str):\n",
    "    p = [0 for i in range(len(haystack))]\n",
    "    for i in range(len(haystack)):\n",
    "        if i == 0:\n",
    "            p[0] = 0\n",
    "            continue\n",
    "        for j in range(i):\n",
    "            if haystack[:j+1] == haystack[i-j:i+1]:\n",
    "                p[i] = len(haystack[:j+1])\n",
    "    return p\n",
    "\n",
    "def CMPfind(haystack:str, needle:str):\n",
    "    p = prefix(needle)\n",
    "    i = 0\n",
    "    j = 0\n",
    "\n",
    "    while i + len(needle) <= len(haystack):\n",
    "        if haystack[i:i+j+1] == needle[:j+1]:\n",
    "            if j == len(needle) - 1:\n",
    "                return i\n",
    "            j += 1\n",
    "        elif j > 0:\n",
    "            i += j - p[j-1]\n",
    "            j = p[j-1]\n",
    "        else:\n",
    "            i+=1\n",
    "\n",
    "    return -1\n",
    "\n",
    "haystack = \"abcabeabcabcabd\"\n",
    "needle = 'abd'\n",
    "index = CMPfind(haystack, needle)\n",
    "print(index)"
   ]
  },
  {
   "cell_type": "markdown",
   "metadata": {},
   "source": [
    "#### Упрощенный алгоритм Бойера-Мура"
   ]
  },
  {
   "cell_type": "code",
   "execution_count": 3,
   "metadata": {
    "collapsed": false,
    "jupyter": {
     "outputs_hidden": false
    },
    "pycharm": {
     "name": "#%%\n"
    }
   },
   "outputs": [
    {
     "name": "stdout",
     "output_type": "stream",
     "text": [
      "[4, 3, 2, 1, 5]\n",
      "[12, 17]\n",
      "жарко\n"
     ]
    }
   ],
   "source": [
    "def shiftGen(haystack:str):\n",
    "    d = [len(haystack)]\n",
    "    keys = [haystack[-1]]\n",
    "    for i in range(len(haystack)-2, -1, -1):\n",
    "        if haystack[i] in keys:\n",
    "            if haystack[i] == keys[-1] and haystack[i] not in keys[0:-1]:\n",
    "                d[-1] = len(haystack) - 1 - i\n",
    "            ind = keys.index(haystack[i]);\n",
    "            pos = d[ind]\n",
    "            d.insert(0, pos)\n",
    "        else:\n",
    "            d.insert(0, len(haystack) - 1 - i)\n",
    "        keys.insert(0, haystack[i])\n",
    "    return d\n",
    "\n",
    "def bmh(haystack:str, needle:str):\n",
    "    d = shiftGen(needle)\n",
    "    print(d)\n",
    "    shift = 0\n",
    "    while True:\n",
    "        for j in range(len(needle)-1, -1, -1):\n",
    "            if needle[j] == haystack[j+shift] and j == 0:\n",
    "                return [j+shift, j+shift+len(needle)]\n",
    "            if needle[j] != haystack[j+shift]:\n",
    "                if haystack[j+shift] in needle:\n",
    "                    ind = needle.index(haystack[j+shift])\n",
    "                    shift += d[ind]\n",
    "                else:\n",
    "                    shift += len(needle)\n",
    "                break\n",
    "        if shift  + len(needle) > len(haystack) :\n",
    "            return -1\n",
    "\n",
    "haystack = \"Летом очень жарко!\"\n",
    "\n",
    "r = bmh(haystack,\"жарко\")\n",
    "\n",
    "print(r)\n",
    "print(haystack[r[0]:r[1]])\n"
   ]
  },
  {
   "cell_type": "markdown",
   "metadata": {},
   "source": [
    "### Задание №2\n",
    "Написать программу, определяющую, является ли данное\n",
    "расположение «решаемым», то есть можно ли из него за конечное число\n",
    "шагов перейти к правильному. Если это возможно, то необходимо найти хотя\n",
    "бы одно решение - последовательность движений, после которой числа будут\n",
    "расположены в правильном порядке.\n",
    "#### Входные данные: массив чисел, представляющий собой расстановку в\n",
    "Порядке «слева направо, сверху вниз». Число 0 обозначает пустое поле.\n",
    "Например, массив [1, 2, 3, 4, 5, 6, 7, 8, 9, 10, 11, 12, 13, 14, 15, 0] представляет\n",
    "собой «решенную» позицию элементов.\n",
    "#### Выходные данные: если решения нет, то функция должна вернуть\n",
    "Пустой массив []. Если решение есть, то необходимо представить решение —\n",
    "для каждого шага записывается номер передвигаемого на данном шаге\n",
    "элемента."
   ]
  },
  {
   "cell_type": "code",
   "execution_count": 4,
   "metadata": {
    "collapsed": false,
    "jupyter": {
     "outputs_hidden": false
    },
    "pycharm": {
     "name": "#%%\n"
    }
   },
   "outputs": [
    {
     "name": "stdout",
     "output_type": "stream",
     "text": [
      "True\n",
      "[4, 2, 3, 9, 7, 13, 10, 6, 15, 14, 6, 11, 9, 7, 13, 12, 5, 10, 12, 13, 7, 9, 11, 12, 9, 7, 13, 9, 10, 15, 14, 6, 12, 11, 7, 10, 15, 14, 6, 12, 11, 15, 14, 6, 15, 11, 12, 15, 6, 14, 11, 6, 15, 12, 8, 7, 6, 11, 10, 6, 7, 8, 12, 15, 14, 5, 9, 13, 6, 10, 5, 9, 13, 5, 10, 6, 5, 10, 9, 14, 11, 9, 10, 13, 14, 10, 9, 11, 10, 14, 13, 9, 11, 10, 15, 12, 10, 11, 14, 15, 11, 10, 12, 11, 15, 14, 10, 12, 11, 15, 12, 11, 8, 7, 11, 12, 15, 8, 12, 11, 2, 3, 6, 2, 7, 4, 3, 6, 2, 7, 6, 3, 4, 12, 8, 15, 11, 8, 12, 6, 8, 11, 15, 12, 6, 8, 11, 6, 12, 15, 14, 10, 6, 11, 7, 6, 10, 14, 15]\n"
     ]
    }
   ],
   "source": [
    "import copy\n",
    "import math\n",
    "from heapq import *\n",
    "\n",
    "\n",
    "def swap(values: list, i: int, j: int):\n",
    "    values[i], values[j] = values[j], values[i]\n",
    "\n",
    "\n",
    "class Heap(object):\n",
    "    def __init__(self):\n",
    "        self.index = 0\n",
    "        self.__data = []\n",
    "\n",
    "    def push(self, item, priority: int):\n",
    "        heappush(self.__data, (priority, self.index, item))\n",
    "        self.index += 1\n",
    "\n",
    "    def pop(self):\n",
    "        return heappop(self.__data)[2]\n",
    "\n",
    "    def size(self) -> int:\n",
    "        return len(self.__data)\n",
    "\n",
    "    def __str__(self) -> str:\n",
    "        return str(self.__data)\n",
    "\n",
    "    def __repr__(self) -> str:\n",
    "        return self.__str__()\n",
    "\n",
    "\n",
    "class Board:\n",
    "    def __init__(self, tiles: list, move=None):\n",
    "        self.tiles = tiles\n",
    "        self.move = move\n",
    "\n",
    "        size = math.sqrt(len(tiles))\n",
    "\n",
    "        if not size.is_integer():\n",
    "            raise ValueError('Invalid tiles size!')\n",
    "\n",
    "        self.size = int(size)\n",
    "\n",
    "    def neighbors(self) -> list:\n",
    "        neighbors = []\n",
    "        empty_index = self.empty_index()\n",
    "        empty_row_index = empty_index // self.size\n",
    "\n",
    "        if (empty_index - 1) // self.size == empty_row_index:\n",
    "            new_tiles = copy.deepcopy(self.tiles)\n",
    "            swap(new_tiles, empty_index, empty_index - 1)\n",
    "            board = Board(new_tiles, self.tiles[empty_index - 1])\n",
    "            neighbors.append(board)\n",
    "\n",
    "        if (empty_index + 1) // self.size == empty_row_index:\n",
    "            new_tiles = copy.deepcopy(self.tiles)\n",
    "            swap(new_tiles, empty_index, empty_index + 1)\n",
    "            board = Board(new_tiles, self.tiles[empty_index + 1])\n",
    "            neighbors.append(board)\n",
    "\n",
    "        if empty_index - 4 > 0:\n",
    "            new_tiles = copy.deepcopy(self.tiles)\n",
    "            swap(new_tiles, empty_index, empty_index - 4)\n",
    "            board = Board(new_tiles, self.tiles[empty_index - 4])\n",
    "            neighbors.append(board)\n",
    "\n",
    "        if empty_index + 4 < len(self.tiles):\n",
    "            new_tiles = copy.deepcopy(self.tiles)\n",
    "            swap(new_tiles, empty_index, empty_index + 4)\n",
    "            board = Board(new_tiles, self.tiles[empty_index + 4])\n",
    "            neighbors.append(board)\n",
    "\n",
    "        return neighbors\n",
    "\n",
    "    def empty_index(self) -> int:\n",
    "        for i in range(len(self.tiles)):\n",
    "            if self.tiles[i] == 0:\n",
    "                return i\n",
    "\n",
    "        return -1\n",
    "\n",
    "    def __str__(self) -> str:\n",
    "        result = ''\n",
    "\n",
    "        for i in range(self.size):\n",
    "            for j in range(self.size):\n",
    "                result += '{:4}'.format(self.tiles[i * self.size + j])\n",
    "            result += '\\n'\n",
    "\n",
    "        return result\n",
    "\n",
    "    def __repr__(self) -> str:\n",
    "        return str(self.tiles)\n",
    "\n",
    "\n",
    "class SlidePuzzleSolver:\n",
    "    def __init__(self, n: int):\n",
    "        self.__n = n\n",
    "        self.__goal_tiles = []\n",
    "\n",
    "        for i in range(n * n - 1):\n",
    "            self.__goal_tiles.append(i + 1)\n",
    "\n",
    "        self.__goal_tiles.append(0)\n",
    "\n",
    "    def solve(self, initial_board: Board) -> list:\n",
    "        if initial_board.size != self.__n:\n",
    "            raise ValueError('Invalid tiles size!')\n",
    "\n",
    "        if not self.is_solvable(initial_board):\n",
    "            return []\n",
    "\n",
    "        key = str(initial_board.tiles)\n",
    "        came_from = {key: None}\n",
    "        cost_so_far = {key: 0}\n",
    "\n",
    "        heap = Heap()\n",
    "        heap.push(initial_board, 0)\n",
    "\n",
    "        current_board = None\n",
    "\n",
    "        while heap.size() > 0:\n",
    "            current_board = heap.pop()\n",
    "            current_key = str(current_board.tiles)\n",
    "\n",
    "            if self.is_goal(current_board):\n",
    "                break\n",
    "\n",
    "            for next_board in current_board.neighbors():\n",
    "                next_key = str(next_board.tiles)\n",
    "                new_cost = cost_so_far[current_key]\n",
    "                if next_key not in cost_so_far or new_cost < cost_so_far[next_key]:\n",
    "                    cost_so_far[next_key] = new_cost\n",
    "                    priority = new_cost + self.manhattan(next_board)\n",
    "                    heap.push(next_board, priority)\n",
    "                    came_from[next_key] = current_board\n",
    "\n",
    "        solution = []\n",
    "\n",
    "        while current_board is not None and current_board.move is not None:\n",
    "            solution.append(current_board.move)\n",
    "            current_board = came_from[str(current_board.tiles)]\n",
    "\n",
    "        solution.reverse()\n",
    "        return solution\n",
    "\n",
    "    def is_goal(self, board: Board) -> bool:\n",
    "        return board.tiles == self.__goal_tiles\n",
    "\n",
    "    def manhattan(self, board: Board) -> int:\n",
    "        manhattan = 0\n",
    "\n",
    "        for i in range(len(board.tiles)):\n",
    "            num = board.tiles[i]\n",
    "\n",
    "            if num != self.__goal_tiles[i] and num != 0:\n",
    "                row = i // self.__n\n",
    "                col = i % self.__n\n",
    "\n",
    "                goal_index = 0\n",
    "\n",
    "                for j in range(len(self.__goal_tiles)):\n",
    "                    if self.__goal_tiles[j] == num:\n",
    "                        goal_index = j\n",
    "                        break\n",
    "\n",
    "                goal_row = goal_index // self.__n\n",
    "                goal_col = goal_index % self.__n\n",
    "\n",
    "                manhattan += abs(goal_row - row) + abs(goal_col - col)\n",
    "\n",
    "        return manhattan\n",
    "\n",
    "    def is_solvable(self, board: Board) -> bool:\n",
    "        inversions_count = 0\n",
    "\n",
    "        for i in range(len(board.tiles) - 1):\n",
    "            for j in range(i + 1, len(board.tiles)):\n",
    "                curr_tile = board.tiles[i]\n",
    "                next_tile = board.tiles[j]\n",
    "                if curr_tile != 0 and next_tile != 0 and curr_tile > next_tile:\n",
    "                    inversions_count += 1\n",
    "\n",
    "        if self.__n % 2 != 0:\n",
    "            return inversions_count % 2 == 0\n",
    "        else:\n",
    "            empty_index = board.empty_index()\n",
    "            empty_row_index = empty_index // self.__n\n",
    "            return (inversions_count + empty_row_index) % 2 != 0\n",
    "\n",
    "\n",
    "def main():\n",
    "    initial_board = Board([1, 2, 4, 0, 9, 3, 11, 8, 7, 13, 10, 14, 12, 5, 6, 15])\n",
    "    solver = SlidePuzzleSolver(4)\n",
    "\n",
    "    print(solver.is_solvable(initial_board))\n",
    "    print(solver.solve(initial_board))\n",
    "\n",
    "\n",
    "main()"
   ]
  },
  {
   "cell_type": "markdown",
   "metadata": {},
   "source": [
    "### Вывод\n",
    "Изучил алгоритмы поиска по строке"
   ]
  }
 ],
 "metadata": {
  "kernelspec": {
   "display_name": "Python 3 (ipykernel)",
   "language": "python",
   "name": "python3"
  },
  "language_info": {
   "codemirror_mode": {
    "name": "ipython",
    "version": 3
   },
   "file_extension": ".py",
   "mimetype": "text/x-python",
   "name": "python",
   "nbconvert_exporter": "python",
   "pygments_lexer": "ipython3",
   "version": "3.10.7"
  }
 },
 "nbformat": 4,
 "nbformat_minor": 4
}
